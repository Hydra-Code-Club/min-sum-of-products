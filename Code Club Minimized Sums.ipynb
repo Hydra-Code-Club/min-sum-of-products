{
 "cells": [
  {
   "cell_type": "markdown",
   "metadata": {},
   "source": [
    "# Minimize the sum of product\n",
    "\n",
    "https://practice.geeksforgeeks.org/problems/minimize-the-sum-of-product/0\n",
    "\n",
    "\n",
    "You are given two arrays, A and B, of equal size N. The task is to find the minimum value of A[0] * B[0] + A[1] * B[1] +…+ A[N-1] * B[N-1], where shuffling of elements of arrays A and B is allowed.\n",
    "\n",
    "## Input:\n",
    "\n",
    "The first line of input contains an integer T denoting the number of test cases. Then T test cases follow. Each test case contains three lines. The first line contains an integer N denoting the size of the arrays. In the second line are N space separated values of the array A[], and in the last line are N space separated values of the array B[].\n",
    "\n",
    "## Output:\n",
    "\n",
    "For each test case, print the minimum sum.\n",
    "\n",
    "## Constraints:\n",
    "```\n",
    "1 <= T <= 100\n",
    "1 <= N <= 107\n",
    "1 <= A[] <= 1018\n",
    "```\n",
    "\n",
    "## Example:\n",
    "\n",
    "```\n",
    "Input:\n",
    "2\n",
    "3 \n",
    "3 1 1\n",
    "6 5 4\n",
    "5\n",
    "6 1 9 5 4\n",
    "3 4 8 2 4\n",
    "Output:\n",
    "23 \n",
    "80\n",
    "```\n",
    "\n",
    "## Explanation:\n",
    "For testcase1: `1*6+1*5+3*4 = 6+5+12 = 23 is the minimum sum`\n",
    "For testcase2: `2*9+3*6+4*5+4*4+8*1 =18+18+20+16+8 = 80 is the minimum sum`\n",
    "\n",
    "**For More Input/Output Examples Use 'Expected Output' option**\n",
    "\n",
    "Author: Shubham Joshi 1"
   ]
  },
  {
   "cell_type": "markdown",
   "metadata": {},
   "source": [
    "## Solving the Problem\n",
    "### Reading in the data"
   ]
  },
  {
   "cell_type": "code",
   "execution_count": 71,
   "metadata": {
    "scrolled": true
   },
   "outputs": [
    {
     "name": "stdout",
     "output_type": "stream",
     "text": [
      "('2\\n', '3 \\n', '3 1 1\\n', '6 4 5\\n', '5\\n', '6 1 9 5 4\\n', '3 4 8 2 4\\n')\n"
     ]
    }
   ],
   "source": [
    "lines = tuple(open(\"data.txt\", 'r'))\n",
    "print(lines)"
   ]
  },
  {
   "cell_type": "markdown",
   "metadata": {},
   "source": [
    "Create a function to convert in text into an array of integers"
   ]
  },
  {
   "cell_type": "code",
   "execution_count": 72,
   "metadata": {},
   "outputs": [
    {
     "name": "stdout",
     "output_type": "stream",
     "text": [
      "[3, 1, 4, 1, 5]\n"
     ]
    }
   ],
   "source": [
    "def read_integers_array(data_str):\n",
    "    return list(map(int, data_str.rstrip().split(\" \")))\n",
    "\n",
    "print(read_integers_array(\"3 1 4 1 5\"))"
   ]
  },
  {
   "cell_type": "markdown",
   "metadata": {},
   "source": [
    "Make a function `get_next_example` that reads the next example from the data file"
   ]
  },
  {
   "cell_type": "code",
   "execution_count": 73,
   "metadata": {},
   "outputs": [],
   "source": [
    "def get_next_example(data):\n",
    "    N = int(data.readline())\n",
    "    a = read_integers_array(data.readline())\n",
    "    b = read_integers_array(data.readline())\n",
    "    return [a,b]"
   ]
  },
  {
   "cell_type": "markdown",
   "metadata": {},
   "source": [
    "Sort, multiply and sum"
   ]
  },
  {
   "cell_type": "code",
   "execution_count": 74,
   "metadata": {},
   "outputs": [],
   "source": [
    "def minimize_sum_of_products(a,b):\n",
    "    a.sort()\n",
    "    b.sort(reverse=True)\n",
    "    print(\"A=\", a)\n",
    "    print(\"B=\", b)\n",
    "    c = []\n",
    "    for x,y in zip(a,b):\n",
    "        c.append(x*y)\n",
    "    print(\"C=\", c)\n",
    "    return sum(c)"
   ]
  },
  {
   "cell_type": "markdown",
   "metadata": {},
   "source": [
    "Convert text contents to integers"
   ]
  },
  {
   "cell_type": "markdown",
   "metadata": {},
   "source": [
    "Read all of the data and parse each line"
   ]
  },
  {
   "cell_type": "code",
   "execution_count": 75,
   "metadata": {},
   "outputs": [
    {
     "name": "stdout",
     "output_type": "stream",
     "text": [
      "A= [1, 1, 3]\n",
      "B= [6, 5, 4]\n",
      "C= [6, 5, 12]\n",
      "23\n",
      "A= [1, 4, 5, 6, 9]\n",
      "B= [8, 4, 4, 3, 2]\n",
      "C= [8, 16, 20, 18, 18]\n",
      "80\n"
     ]
    }
   ],
   "source": [
    "filename = \"data.txt\"\n",
    "data = open(filename)\n",
    "T = int(data.readline())\n",
    "for i in range(T):\n",
    "    a,b = get_next_example(data)\n",
    "    print(minimize_sum_of_products(a,b))"
   ]
  }
 ],
 "metadata": {
  "kernelspec": {
   "display_name": "Python 3",
   "language": "python",
   "name": "python3"
  },
  "language_info": {
   "codemirror_mode": {
    "name": "ipython",
    "version": 3
   },
   "file_extension": ".py",
   "mimetype": "text/x-python",
   "name": "python",
   "nbconvert_exporter": "python",
   "pygments_lexer": "ipython3",
   "version": "3.6.9"
  }
 },
 "nbformat": 4,
 "nbformat_minor": 4
}
